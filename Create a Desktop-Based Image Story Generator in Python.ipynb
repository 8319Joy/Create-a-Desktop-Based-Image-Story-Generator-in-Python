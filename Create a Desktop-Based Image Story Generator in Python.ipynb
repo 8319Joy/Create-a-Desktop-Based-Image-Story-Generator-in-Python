{
 "cells": [
  {
   "cell_type": "raw",
   "id": "d81777dc",
   "metadata": {},
   "source": [
    "This Python script creates a simple desktop-based dashboard where users can upload an image and generate an English story about it, avoiding web-based platforms or API errors. It uses tkinter for the GUI and Pillow for image handling. The steps involve:\n",
    "\n",
    "Uploading an Image: A user selects an image from their computer using a file dialog.\n",
    "Displaying the Image: The uploaded image is resized and displayed on the dashboard.\n",
    "Story Generation: A predefined story is created based on the uploaded image's format when the user presses a button."
   ]
  },
  {
   "cell_type": "code",
   "execution_count": 7,
   "id": "c164de3f",
   "metadata": {},
   "outputs": [],
   "source": [
    "import tkinter as tk\n",
    "from tkinter import filedialog\n",
    "from PIL import Image, ImageTk\n",
    "import os\n",
    "\n",
    "def upload_image():\n",
    "    file_path = filedialog.askopenfilename(\n",
    "        filetypes=[(\"Image Files\", \"*.png;*.jpg;*.jpeg;*.bmp;*.gif\")]\n",
    "    )\n",
    "    if file_path:\n",
    "        img = Image.open(file_path)\n",
    "        img.thumbnail((400, 400))  # Resize for the GUI\n",
    "        img_tk = ImageTk.PhotoImage(img)\n",
    "        img_label.config(image=img_tk)\n",
    "        img_label.image = img_tk\n",
    "        app_data[\"image_path\"] = file_path\n",
    "\n",
    "def generate_story():\n",
    "    if \"image_path\" not in app_data or not os.path.exists(app_data[\"image_path\"]):\n",
    "        story_label.config(text=\"Please upload an image first!\")\n",
    "        return\n",
    "\n",
    "    file_extension = os.path.splitext(app_data[\"image_path\"])[1].lower()\n",
    "    if file_extension in ['.jpg', '.jpeg']:\n",
    "        story = \"This image captures vivid memories in brilliant colors.\"\n",
    "    elif file_extension == '.png':\n",
    "        story = \"A crisp and detailed image with endless possibilities.\"\n",
    "    elif file_extension == '.bmp':\n",
    "        story = \"A nostalgic journey back to classic image formats.\"\n",
    "    elif file_extension == '.gif':\n",
    "        story = \"A lively image bringing motion to moments.\"\n",
    "    else:\n",
    "        story = \"An intriguing image full of mysteries yet to unfold.\"\n",
    "\n",
    "    story_label.config(text=story)\n",
    "\n",
    "root = tk.Tk()\n",
    "root.title(\"Image Story Generator\")\n",
    "\n",
    "app_data = {}\n",
    "\n",
    "upload_btn = tk.Button(root, text=\"Upload Image\", command=upload_image)\n",
    "upload_btn.pack()\n",
    "\n",
    "img_label = tk.Label(root)\n",
    "img_label.pack()\n",
    "\n",
    "story_btn = tk.Button(root, text=\"Generate Story\", command=generate_story)\n",
    "story_btn.pack()\n",
    "\n",
    "story_label = tk.Label(root, text=\"\", wraplength=400, justify=\"center\")\n",
    "story_label.pack()\n",
    "\n",
    "root.mainloop()"
   ]
  },
  {
   "cell_type": "code",
   "execution_count": null,
   "id": "63878d27",
   "metadata": {},
   "outputs": [],
   "source": []
  }
 ],
 "metadata": {
  "kernelspec": {
   "display_name": "Python 3 (ipykernel)",
   "language": "python",
   "name": "python3"
  },
  "language_info": {
   "codemirror_mode": {
    "name": "ipython",
    "version": 3
   },
   "file_extension": ".py",
   "mimetype": "text/x-python",
   "name": "python",
   "nbconvert_exporter": "python",
   "pygments_lexer": "ipython3",
   "version": "3.11.4"
  }
 },
 "nbformat": 4,
 "nbformat_minor": 5
}
